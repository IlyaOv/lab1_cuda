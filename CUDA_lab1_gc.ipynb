{
  "nbformat": 4,
  "nbformat_minor": 0,
  "metadata": {
    "colab": {
      "name": "CUDA_lab1_gc",
      "provenance": []
    },
    "kernelspec": {
      "name": "python3",
      "display_name": "Python 3"
    },
    "accelerator": "GPU"
  },
  "cells": [
    {
      "cell_type": "code",
      "metadata": {
        "id": "FL59up7CUEXz",
        "outputId": "2674cd65-c5d5-4930-d669-114a92d378fe",
        "colab": {
          "base_uri": "https://localhost:8080/",
          "height": 85
        }
      },
      "source": [
        "!nvcc --version"
      ],
      "execution_count": 1,
      "outputs": [
        {
          "output_type": "stream",
          "text": [
            "nvcc: NVIDIA (R) Cuda compiler driver\n",
            "Copyright (c) 2005-2019 NVIDIA Corporation\n",
            "Built on Sun_Jul_28_19:07:16_PDT_2019\n",
            "Cuda compilation tools, release 10.1, V10.1.243\n"
          ],
          "name": "stdout"
        }
      ]
    },
    {
      "cell_type": "code",
      "metadata": {
        "id": "Uzm7bI-vUOlz",
        "outputId": "85a7b50c-12bd-4055-c4c2-93209c9ae70c",
        "colab": {
          "base_uri": "https://localhost:8080/",
          "height": 357
        }
      },
      "source": [
        "!nvidia-smi"
      ],
      "execution_count": 2,
      "outputs": [
        {
          "output_type": "stream",
          "text": [
            "Mon Oct 26 17:22:36 2020       \n",
            "+-----------------------------------------------------------------------------+\n",
            "| NVIDIA-SMI 455.23.05    Driver Version: 418.67       CUDA Version: 10.1     |\n",
            "|-------------------------------+----------------------+----------------------+\n",
            "| GPU  Name        Persistence-M| Bus-Id        Disp.A | Volatile Uncorr. ECC |\n",
            "| Fan  Temp  Perf  Pwr:Usage/Cap|         Memory-Usage | GPU-Util  Compute M. |\n",
            "|                               |                      |               MIG M. |\n",
            "|===============================+======================+======================|\n",
            "|   0  Tesla P4            Off  | 00000000:00:04.0 Off |                    0 |\n",
            "| N/A   35C    P8     7W /  75W |      0MiB /  7611MiB |      0%      Default |\n",
            "|                               |                      |                 ERR! |\n",
            "+-------------------------------+----------------------+----------------------+\n",
            "                                                                               \n",
            "+-----------------------------------------------------------------------------+\n",
            "| Processes:                                                                  |\n",
            "|  GPU   GI   CI        PID   Type   Process name                  GPU Memory |\n",
            "|        ID   ID                                                   Usage      |\n",
            "|=============================================================================|\n",
            "|  No running processes found                                                 |\n",
            "+-----------------------------------------------------------------------------+\n"
          ],
          "name": "stdout"
        }
      ]
    },
    {
      "cell_type": "code",
      "metadata": {
        "id": "DrqhTHuXU5T-"
      },
      "source": [
        "!nvcc cuda_lab1.cu -o cuda_lab1"
      ],
      "execution_count": null,
      "outputs": []
    },
    {
      "cell_type": "code",
      "metadata": {
        "id": "hmX0GgcRVAMn",
        "outputId": "d14b1b8e-56a4-48b1-8585-f20c3262e7aa",
        "colab": {
          "base_uri": "https://localhost:8080/",
          "height": 425
        }
      },
      "source": [
        "!./cuda_lab1 112 0\n",
        "print(\"------\")\n",
        "!./cuda_lab1 512 0\n",
        "print(\"------\")\n",
        "!./cuda_lab1 1008 0\n",
        "print(\"------\")\n",
        "!./cuda_lab1 1504 0\n",
        "print(\"------\")\n",
        "!./cuda_lab1 2000 0"
      ],
      "execution_count": null,
      "outputs": [
        {
          "output_type": "stream",
          "text": [
            "The time: 6.329635 milliseconds\n",
            "KernelTime: 0.066464 milliseconds\n",
            "Acceleration: 95.234037\n",
            "The multiplication results are correct.\n",
            "------\n",
            "The time: 1435.022746 milliseconds\n",
            "KernelTime: 3.040704 milliseconds\n",
            "Acceleration: 471.937663\n",
            "The multiplication results are correct.\n",
            "------\n",
            "The time: 6522.138588 milliseconds\n",
            "KernelTime: 22.832607 milliseconds\n",
            "Acceleration: 285.650189\n",
            "The multiplication results are correct.\n",
            "------\n",
            "The time: 28814.306684 milliseconds\n",
            "KernelTime: 75.303780 milliseconds\n",
            "Acceleration: 382.640909\n",
            "The multiplication results are correct.\n",
            "------\n",
            "The time: 89697.768742 milliseconds\n",
            "KernelTime: 177.183228 milliseconds\n",
            "Acceleration: 506.243000\n",
            "The multiplication results are correct.\n"
          ],
          "name": "stdout"
        }
      ]
    },
    {
      "cell_type": "code",
      "metadata": {
        "id": "1goCJ8mpX4-M",
        "outputId": "b025e8de-4984-4745-a644-10e3c30c6fd0",
        "colab": {
          "base_uri": "https://localhost:8080/",
          "height": 425
        }
      },
      "source": [
        "!./cuda_lab1 112 1\n",
        "print(\"------\")\n",
        "!./cuda_lab1 512 1\n",
        "print(\"------\")\n",
        "!./cuda_lab1 1008 1\n",
        "print(\"------\")\n",
        "!./cuda_lab1 1504 1\n",
        "print(\"------\")\n",
        "!./cuda_lab1 2000 1"
      ],
      "execution_count": null,
      "outputs": [
        {
          "output_type": "stream",
          "text": [
            "The time: 7.162926 milliseconds\n",
            "KernelTime: 0.068992 milliseconds\n",
            "Acceleration: 103.822565\n",
            "The multiplication results are correct.\n",
            "------\n",
            "The time: 1387.854443 milliseconds\n",
            "KernelTime: 3.009856 milliseconds\n",
            "Acceleration: 461.103272\n",
            "The multiplication results are correct.\n",
            "------\n",
            "The time: 6379.625932 milliseconds\n",
            "KernelTime: 22.619072 milliseconds\n",
            "Acceleration: 282.046317\n",
            "The multiplication results are correct.\n",
            "------\n",
            "The time: 30183.118935 milliseconds\n",
            "KernelTime: 74.520035 milliseconds\n",
            "Acceleration: 405.033613\n",
            "The multiplication results are correct.\n",
            "------\n",
            "The time: 100188.594174 milliseconds\n",
            "KernelTime: 170.708389 milliseconds\n",
            "Acceleration: 586.899066\n",
            "The multiplication results are correct.\n"
          ],
          "name": "stdout"
        }
      ]
    }
  ]
}